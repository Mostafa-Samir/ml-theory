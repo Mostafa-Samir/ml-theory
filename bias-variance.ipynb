{
 "cells": [
  {
   "cell_type": "code",
   "execution_count": 2,
   "metadata": {
    "collapsed": true
   },
   "outputs": [],
   "source": [
    "import numpy as np\n",
    "from sklearn.preprocessing import PolynomialFeatures\n",
    "from sklearn.linear_model import LinearRegression, Ridge"
   ]
  },
  {
   "cell_type": "markdown",
   "metadata": {},
   "source": [
    "## `HypothesisSpace` Class\n",
    "\n",
    "An abstract class that defines a hypothesis space using two methods:\n",
    "\n",
    "* `train(self, X, y)`: trains a the hypothesis on the given data `X` and labels `y` and returns the coeffcients of the trained model\n",
    "* `assign(self, params)`: assigns a given parameters vector `params` to an instace of the model and returns a callabale\n",
    "\n",
    "This class should be implemented for the desired models to work with."
   ]
  },
  {
   "cell_type": "code",
   "execution_count": 3,
   "metadata": {
    "collapsed": true
   },
   "outputs": [],
   "source": [
    "class HypothesisSpace():\n",
    "    \n",
    "    def train(self, X, y):\n",
    "        \"\"\"\n",
    "        X: np.ndarray of shape (number of samples, number of features)\n",
    "        y: np.ndarray of shape (number of samples, )\n",
    "        \n",
    "        Returns: np.ndarray of shape (number of features, )\n",
    "        \"\"\"\n",
    "        raise NotImplementedError(\"This method is not implemented\")\n",
    "    \n",
    "    def assign(self, params):\n",
    "        \"\"\"\n",
    "        params: np.ndarray of shape (number of features, )\n",
    "        \n",
    "        Returns: callable(x): h(x)\n",
    "        \"\"\"\n",
    "        raise NotImplementedError(\"This method is not implemented\")"
   ]
  },
  {
   "cell_type": "markdown",
   "metadata": {},
   "source": [
    "## `BiasVariance` Class\n",
    "\n",
    "A class that handles the calculation of the bias-variance estimates, initialized with only the target function and the desired hypothesis space.\n",
    "\n",
    "public methods are:\n",
    "\n",
    "* `bias2(self)`: returns an estimate of the squared bias\n",
    "* `variance(self)`: returns an estimate of the variance"
   ]
  },
  {
   "cell_type": "code",
   "execution_count": 25,
   "metadata": {
    "collapsed": true
   },
   "outputs": [],
   "source": [
    "class BiasVariance():\n",
    "    \n",
    "    def __init__(self, target, hypothesis_class):\n",
    "        \"\"\"\n",
    "        target: callabale(x): f(x)\n",
    "        hypothesis_class: HypothesisSpace\n",
    "        \"\"\"\n",
    "        \n",
    "        self.target = target\n",
    "        self.hypothesis_class = hypothesis_class()\n",
    "        self.sample_x = np.arange(-1, 1, 0.01)\n",
    "        self.h_bar = self._estimate_h_bar()\n",
    "        \n",
    "    def _estimate_h_bar(self):\n",
    "        \"\"\"\n",
    "        estiamtes the parameters vector of the mean hypothesis\n",
    "        and returns an instance of the hypothesis space with that estimate\n",
    "        \"\"\"\n",
    "        \n",
    "        datasets_mean_coef = None  # holds the average of the parameters vector across the datasets\n",
    "        \n",
    "        # seed the random generators with a known value to get the same\n",
    "        # simulated datasets when estimating the variance\n",
    "        np.random.seed(1)\n",
    "        \n",
    "        for i in range(1000):\n",
    "            \n",
    "            # generate a simulated dataset\n",
    "            X = np.random.uniform(-1, 1, 200)\n",
    "            noise = np.random.normal(scale=2, size=200)\n",
    "            y = self.target(X) + noise\n",
    "            \n",
    "            trained_coef = self.hypothesis_class.train(X, y)\n",
    "            if datasets_mean_coef is None:\n",
    "                datasets_mean_coef = trained_coef\n",
    "            else:\n",
    "                datasets_mean_coef += trained_coef\n",
    "                \n",
    "        datasets_mean_coef /= 1000.0  # finalize the average estimation\n",
    "        \n",
    "        return self.hypothesis_class.assign(datasets_mean_coef)\n",
    "    \n",
    "    def bias2(self):\n",
    "        \"\"\"\n",
    "        returns an estimate of the squared bias\n",
    "        \"\"\"\n",
    "        \n",
    "        bias2 = np.mean((self.h_bar(self.sample_x) - self.target(self.sample_x)) ** 2)\n",
    "        \n",
    "        return bias2\n",
    "    \n",
    "    def variance(self):\n",
    "        \"\"\"\n",
    "        returns an estimate of the variance\n",
    "        \"\"\"\n",
    "        \n",
    "        datasets_variances = []  # holds the variance estimate for each simulated dataset\n",
    "        \n",
    "        np.random.seed(1)\n",
    "        \n",
    "        for i in range(1000):\n",
    "            \n",
    "            # generate a simulated dataset\n",
    "            X = np.random.uniform(-1, 1, 200)\n",
    "            noise = np.random.normal(scale=2, size=200)\n",
    "            y = self.target(X) + noise\n",
    "            \n",
    "            trained_coef = self.hypothesis_class.train(X, y)\n",
    "            trained_instance = self.hypothesis_class.assign(trained_coef)\n",
    "            \n",
    "            var = np.mean((trained_instance(X) - self.h_bar(X)) ** 2)\n",
    "            datasets_variances.append(var)\n",
    "            \n",
    "        return np.mean(datasets_variances)"
   ]
  },
  {
   "cell_type": "markdown",
   "metadata": {},
   "source": [
    "## Unregularized 10th Degree Model"
   ]
  },
  {
   "cell_type": "code",
   "execution_count": 26,
   "metadata": {
    "collapsed": true
   },
   "outputs": [],
   "source": [
    "class UnRegularized10thModel(HypothesisSpace):\n",
    "    \n",
    "    def train(self, X, y):\n",
    "        transform = PolynomialFeatures(10)\n",
    "        trainer = LinearRegression()\n",
    "        X = np.reshape(X, (-1, 1))\n",
    "        \n",
    "        poly_X = transform.fit_transform(X)\n",
    "        trainer.fit(poly_X, y)\n",
    "        params = trainer.coef_\n",
    "        params[0] = trainer.intercept_\n",
    "        \n",
    "        return params\n",
    "    \n",
    "    def assign(self, params):\n",
    "        intercept = params[0]\n",
    "        coef = params\n",
    "        coef[0] = 0.\n",
    "        \n",
    "        transform = PolynomialFeatures(10)\n",
    "        model = LinearRegression()\n",
    "        model.coef_ = coef\n",
    "        model.intercept_ = intercept\n",
    "        \n",
    "        return lambda x: model.predict(transform.fit_transform(np.reshape(x, (-1, 1))))"
   ]
  },
  {
   "cell_type": "code",
   "execution_count": 27,
   "metadata": {
    "collapsed": false
   },
   "outputs": [
    {
     "name": "stdout",
     "output_type": "stream",
     "text": [
      "Estimated Squred Bias: 0.000268\n",
      "Estimated Variance: 0.219390\n",
      "Estimated Risk: 4.219657\n"
     ]
    }
   ],
   "source": [
    "unregularizedBV = BiasVariance(lambda x: np.sin(np.pi * x), UnRegularized10thModel)\n",
    "\n",
    "bias2 = unregularizedBV.bias2()\n",
    "variance = unregularizedBV.variance()\n",
    "\n",
    "print \"Estimated Squred Bias: %.6f\" % (bias2)\n",
    "print \"Estimated Variance: %.6f\" % (variance)\n",
    "print \"Estimated Risk: %.6f\" % (bias2 + variance + 4) "
   ]
  },
  {
   "cell_type": "markdown",
   "metadata": {},
   "source": [
    "## Regularized 10th Degree Model"
   ]
  },
  {
   "cell_type": "code",
   "execution_count": 32,
   "metadata": {
    "collapsed": true
   },
   "outputs": [],
   "source": [
    "class Regularized10thModel(HypothesisSpace):\n",
    "    \n",
    "    def train(self, X, y):\n",
    "        transform = PolynomialFeatures(10)\n",
    "        trainer = Ridge(alpha=2)\n",
    "        X = np.reshape(X, (-1, 1))\n",
    "        \n",
    "        poly_X = transform.fit_transform(X)\n",
    "        trainer.fit(poly_X, y)\n",
    "        params = trainer.coef_\n",
    "        params[0] = trainer.intercept_\n",
    "        \n",
    "        return params\n",
    "    \n",
    "    def assign(self, params):\n",
    "        intercept = params[0]\n",
    "        coef = params\n",
    "        coef[0] = 0.\n",
    "        \n",
    "        transform = PolynomialFeatures(10)\n",
    "        model = Ridge(alpha=2)\n",
    "        model.coef_ = coef\n",
    "        model.intercept_ = intercept\n",
    "        \n",
    "        return lambda x: model.predict(transform.fit_transform(np.reshape(x, (-1, 1))))"
   ]
  },
  {
   "cell_type": "code",
   "execution_count": 33,
   "metadata": {
    "collapsed": false
   },
   "outputs": [
    {
     "name": "stdout",
     "output_type": "stream",
     "text": [
      "Estimated Squred Bias: 0.034948\n",
      "Estimated Variance: 0.083310\n",
      "Estimated Risk: 4.118258\n"
     ]
    }
   ],
   "source": [
    "regularizedBV = BiasVariance(lambda x: np.sin(np.pi * x), Regularized10thModel)\n",
    "\n",
    "bias2 = regularizedBV.bias2()\n",
    "variance = regularizedBV.variance()\n",
    "\n",
    "print \"Estimated Squred Bias: %.6f\" % (bias2)\n",
    "print \"Estimated Variance: %.6f\" % (variance)\n",
    "print \"Estimated Risk: %.6f\" % (bias2 + variance + 4) "
   ]
  }
 ],
 "metadata": {
  "kernelspec": {
   "display_name": "Python 2",
   "language": "python",
   "name": "python2"
  },
  "language_info": {
   "codemirror_mode": {
    "name": "ipython",
    "version": 2
   },
   "file_extension": ".py",
   "mimetype": "text/x-python",
   "name": "python",
   "nbconvert_exporter": "python",
   "pygments_lexer": "ipython2",
   "version": "2.7.6"
  }
 },
 "nbformat": 4,
 "nbformat_minor": 0
}
